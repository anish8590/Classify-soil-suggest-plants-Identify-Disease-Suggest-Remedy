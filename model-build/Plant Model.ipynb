{
 "cells": [
  {
   "cell_type": "code",
   "execution_count": 1,
   "id": "nonprofit-tackle",
   "metadata": {},
   "outputs": [],
   "source": [
    "import splitfolders"
   ]
  },
  {
   "cell_type": "code",
   "execution_count": 2,
   "id": "nuclear-superior",
   "metadata": {},
   "outputs": [],
   "source": [
    "splitfolders.ratio(\"leaf/train\", output=\"leaf/data/\", seed=1337, ratio=(.8, .2), group_prefix=None) # default values\n"
   ]
  },
  {
   "cell_type": "code",
   "execution_count": 2,
   "id": "better-operator",
   "metadata": {},
   "outputs": [],
   "source": [
    "from tensorflow import keras\n",
    "import tensorflow as tf\n",
    "import numpy as np\n",
    "import matplotlib.pyplot as plt\n",
    "%matplotlib inline"
   ]
  },
  {
   "cell_type": "code",
   "execution_count": 9,
   "id": "sublime-virgin",
   "metadata": {},
   "outputs": [],
   "source": [
    "import numpy as np\n",
    "from tensorflow.keras.models import load_model\n",
    "from tensorflow.keras.preprocessing.image import load_img, img_to_array\n",
    "from keras import layers\n",
    "from tensorflow.keras.applications.xception import preprocess_input\n",
    "from tensorflow.keras.preprocessing.image import load_img , img_to_array , ImageDataGenerator\n",
    "import sys\n",
    "sys.setrecursionlimit(10000)"
   ]
  },
  {
   "cell_type": "code",
   "execution_count": 4,
   "id": "reserved-wound",
   "metadata": {},
   "outputs": [],
   "source": [
    "healthType = ['Apple___Apple_scab',\n",
    " 'Apple___Black_rot',\n",
    " 'Apple___Cedar_apple_rust',\n",
    " 'Apple___healthy',\n",
    " 'Blueberry___healthy',\n",
    " 'Cherry_(including_sour)___Powdery_mildew',\n",
    " 'Cherry_(including_sour)___healthy',\n",
    " 'Corn_(maize)___Cercospora_leaf_spot Gray_leaf_spot',\n",
    " 'Corn_(maize)___Common_rust_',\n",
    " 'Corn_(maize)___Northern_Leaf_Blight',\n",
    " 'Corn_(maize)___healthy',\n",
    " 'Grape___Black_rot',\n",
    " 'Grape___Esca_(Black_Measles)',\n",
    " 'Grape___Leaf_blight_(Isariopsis_Leaf_Spot)',\n",
    " 'Grape___healthy',\n",
    " 'Orange___Haunglongbing_(Citrus_greening)',\n",
    " 'Peach___Bacterial_spot',\n",
    " 'Peach___healthy',\n",
    " 'Pepper,_bell___Bacterial_spot',\n",
    " 'Pepper,_bell___healthy',\n",
    " 'Potato___Early_blight',\n",
    " 'Potato___Late_blight',\n",
    " 'Potato___healthy',\n",
    " 'Raspberry___healthy',\n",
    " 'Soybean___healthy',\n",
    " 'Squash___Powdery_mildew',\n",
    " 'Strawberry___Leaf_scorch',\n",
    " 'Strawberry___healthy',\n",
    " 'Tomato___Bacterial_spot',\n",
    " 'Tomato___Early_blight',\n",
    " 'Tomato___Late_blight',\n",
    " 'Tomato___Leaf_Mold',\n",
    " 'Tomato___Septoria_leaf_spot',\n",
    " 'Tomato___Spider_mites Two-spotted_spider_mite',\n",
    " 'Tomato___Target_Spot',\n",
    " 'Tomato___Tomato_Yellow_Leaf_Curl_Virus',\n",
    " 'Tomato___Tomato_mosaic_virus',\n",
    " 'Tomato___healthy']"
   ]
  },
  {
   "cell_type": "code",
   "execution_count": 5,
   "id": "quiet-classification",
   "metadata": {},
   "outputs": [],
   "source": [
    "DATA_PATH = 'leaf/'"
   ]
  },
  {
   "cell_type": "code",
   "execution_count": 6,
   "id": "hungry-worst",
   "metadata": {},
   "outputs": [
    {
     "name": "stdout",
     "output_type": "stream",
     "text": [
      "Found 70295 images belonging to 38 classes.\n"
     ]
    }
   ],
   "source": [
    "#import train data\n",
    "train_datagen = ImageDataGenerator(rescale=1/255,\n",
    "                                   shear_range = 0.3,\n",
    "                                   zoom_range = 0.3,horizontal_flip = True,\n",
    "                                   vertical_flip =  True ,\n",
    "                                   rotation_range=60)\n",
    "\n",
    "\n",
    "train_data = train_datagen.flow_from_directory(DATA_PATH+'train',\n",
    "                                                 target_size = (244, 244),\n",
    "                                                 class_mode='sparse',\n",
    "                                                 shuffle=True,seed=1)"
   ]
  },
  {
   "cell_type": "code",
   "execution_count": 7,
   "id": "induced-greene",
   "metadata": {},
   "outputs": [
    {
     "name": "stdout",
     "output_type": "stream",
     "text": [
      "Found 14076 images belonging to 38 classes.\n"
     ]
    }
   ],
   "source": [
    "#import val data\n",
    "\n",
    "val_datagen = ImageDataGenerator(rescale = 1/255)\n",
    "val_data = val_datagen.flow_from_directory(DATA_PATH+'data/val',\n",
    "                                                           target_size=(244,244),\n",
    "                                                           class_mode='sparse',\n",
    "                                                           shuffle=True,seed=1)"
   ]
  },
  {
   "cell_type": "code",
   "execution_count": 12,
   "id": "cardiovascular-emphasis",
   "metadata": {},
   "outputs": [
    {
     "name": "stdout",
     "output_type": "stream",
     "text": [
      "Found 10 images belonging to 2 classes.\n"
     ]
    }
   ],
   "source": [
    "# import test data\n",
    "\n",
    "\n",
    "test_datagen = ImageDataGenerator(rescale = 1/255)\n",
    "test_data = test_datagen.flow_from_directory(DATA_PATH+'ser',\n",
    "                                                           target_size=(244,244),\n",
    "                                                           class_mode='sparse',\n",
    "                                                           shuffle=False,seed=1)\n",
    "modell = load_model('models/leaf-model.h5')"
   ]
  },
  {
   "cell_type": "code",
   "execution_count": 65,
   "id": "manual-breed",
   "metadata": {},
   "outputs": [
    {
     "name": "stdout",
     "output_type": "stream",
     "text": [
      "(None, 244, 244, 3)\n"
     ]
    }
   ],
   "source": [
    "# Defining Cnn\n",
    "model = tf.keras.models.Sequential([\n",
    "  layers.Conv2D(32, 3, activation='relu',input_shape=(244,244,3)),\n",
    "  layers.MaxPooling2D(),\n",
    "  layers.Conv2D(64, 3, activation='relu'),\n",
    "  layers.MaxPooling2D(),\n",
    "  layers.Dropout(0.3),\n",
    "  layers.Conv2D(128, 3, activation='relu'),\n",
    "  layers.MaxPooling2D(),\n",
    "  layers.Dropout(0.2),\n",
    "  layers.Flatten(),\n",
    "  layers.Dense(256, activation='relu'),\n",
    "  layers.Dropout(0.15),\n",
    "  layers.Dense(128, activation='relu'),\n",
    "  layers.Dropout(0.1),\n",
    "  layers.Dense(38, activation= 'softmax')\n",
    "])\n",
    "\n",
    "print(model.input.shape) "
   ]
  },
  {
   "cell_type": "code",
   "execution_count": 66,
   "id": "auburn-cholesterol",
   "metadata": {},
   "outputs": [],
   "source": [
    "model.compile(optimizer='adam',loss='sparse_categorical_crossentropy', metrics=['accuracy'])"
   ]
  },
  {
   "cell_type": "code",
   "execution_count": 67,
   "id": "mediterranean-basis",
   "metadata": {},
   "outputs": [],
   "source": [
    "early = tf.keras.callbacks.EarlyStopping(monitor='val_loss',patience=5)"
   ]
  },
  {
   "cell_type": "code",
   "execution_count": null,
   "id": "personalized-fabric",
   "metadata": {},
   "outputs": [
    {
     "name": "stdout",
     "output_type": "stream",
     "text": [
      "Epoch 1/100\n",
      "1389/2197 [=================>............] - ETA: 1:02:37 - loss: 2.2798 - accuracy: 0.3409"
     ]
    }
   ],
   "source": [
    "history = model.fit(train_data, validation_data= val_data, batch_size=32, epochs = 100, callbacks=[early])"
   ]
  },
  {
   "cell_type": "code",
   "execution_count": null,
   "id": "instrumental-incidence",
   "metadata": {},
   "outputs": [],
   "source": [
    "model.evaluate(test_data)"
   ]
  },
  {
   "cell_type": "code",
   "execution_count": null,
   "id": "guilty-oriental",
   "metadata": {},
   "outputs": [],
   "source": [
    "y_pred =  model.predict(test_data)\n",
    "y_pred =  np.argmax(y_pred,axis=1)\n",
    "len(test_data)\n",
    "test_data.classes\n",
    "y_pred"
   ]
  },
  {
   "cell_type": "code",
   "execution_count": null,
   "id": "yellow-chile",
   "metadata": {},
   "outputs": [],
   "source": [
    "from sklearn.metrics import confusion_matrix, classification_report, roc_curve"
   ]
  },
  {
   "cell_type": "code",
   "execution_count": null,
   "id": "exciting-diamond",
   "metadata": {},
   "outputs": [],
   "source": [
    "def plot_confusion_matrix (cm, classes,normalize=False,title='Confusion matrix',cmap=plt.cm.Blues):\n",
    "    plt.imshow(cm, interpolation='nearest', cmap=cmap)\n",
    "    plt.title(title)\n",
    "    plt.colorbar()\n",
    "    tick_marks = np.arange(len(classes))\n",
    "    plt.xticks(tick_marks, classes, rotation=45)\n",
    "    plt.yticks(tick_marks, classes)\n",
    "\n",
    "    if normalize:\n",
    "        cm = cm.astype('float') / cm.sum(axis=1)[:, np.newaxis]\n",
    "        print(\"Normalized confusion matrix\")\n",
    "    else:\n",
    "        print('Confusion matrix, without normalization')\n",
    "\n",
    "    print(cm)\n",
    "\n",
    "    thresh = cm.max() / 2.\n",
    "    for i, j in itertools.product(range(cm.shape[0]), range(cm.shape[1])):\n",
    "        plt.text(j, i, cm[i, j],\n",
    "            horizontalalignment=\"center\",\n",
    "            color=\"white\" if cm[i, j] > thresh else \"black\")\n",
    "\n",
    "    plt.tight_layout()\n",
    "    plt.ylabel('True label')\n",
    "    plt.xlabel('Predicted label')"
   ]
  },
  {
   "cell_type": "code",
   "execution_count": null,
   "id": "reported-queue",
   "metadata": {},
   "outputs": [],
   "source": [
    "import itertools\n",
    "cm = confusion_matrix(y_true = test_data.classes, y_pred = y_pred)\n",
    "plot_confusion_matrix(cm, SoilType, title= 'confusion matrix')"
   ]
  },
  {
   "cell_type": "code",
   "execution_count": null,
   "id": "wrong-stupid",
   "metadata": {},
   "outputs": [],
   "source": [
    "print(classification_report(test_data.classes, y_pred))"
   ]
  },
  {
   "cell_type": "code",
   "execution_count": null,
   "id": "civil-armenia",
   "metadata": {},
   "outputs": [],
   "source": [
    "model.save('models/leaf_model_31_March.h5')"
   ]
  },
  {
   "cell_type": "code",
   "execution_count": null,
   "id": "extreme-lawsuit",
   "metadata": {},
   "outputs": [],
   "source": [
    "def plot_hist(hist):\n",
    "    plt.plot(hist.history[\"accuracy\"])\n",
    "    plt.plot(hist.history[\"val_accuracy\"])\n",
    "    plt.title(\"model accuracy\")\n",
    "    plt.ylabel(\"accuracy\")\n",
    "    plt.xlabel(\"epoch\")\n",
    "    plt.legend([\"train\", \"validation\"], loc=\"upper left\")\n",
    "    plt.show()"
   ]
  },
  {
   "cell_type": "code",
   "execution_count": null,
   "id": "severe-cursor",
   "metadata": {},
   "outputs": [],
   "source": [
    "plot_hist(history)"
   ]
  },
  {
   "cell_type": "code",
   "execution_count": null,
   "id": "premium-isaac",
   "metadata": {},
   "outputs": [],
   "source": [
    "def plot_hist_loss(hist):\n",
    "    plt.plot(hist.history[\"loss\"])\n",
    "    plt.plot(hist.history[\"val_loss\"])\n",
    "    plt.title(\"model loss\")\n",
    "    plt.ylabel(\"loss\")\n",
    "    plt.xlabel(\"epoch\")\n",
    "    plt.legend([\"train\", \"validation\"], loc=\"upper left\")\n",
    "    plt.show()"
   ]
  },
  {
   "cell_type": "code",
   "execution_count": null,
   "id": "interested-lesbian",
   "metadata": {},
   "outputs": [],
   "source": [
    "plot_hist_loss(history)"
   ]
  },
  {
   "cell_type": "code",
   "execution_count": 15,
   "id": "choice-exception",
   "metadata": {},
   "outputs": [
    {
     "data": {
      "text/plain": [
       "array([0, 0, 0, 0, 0, 1, 1, 1, 1, 1])"
      ]
     },
     "execution_count": 15,
     "metadata": {},
     "output_type": "execute_result"
    }
   ],
   "source": [
    "len(test_data)\n",
    "test_data.classes"
   ]
  },
  {
   "cell_type": "code",
   "execution_count": 16,
   "id": "residential-minute",
   "metadata": {},
   "outputs": [],
   "source": [
    "y_pred =  modell.predict(test_data)"
   ]
  },
  {
   "cell_type": "code",
   "execution_count": 17,
   "id": "democratic-vessel",
   "metadata": {},
   "outputs": [
    {
     "data": {
      "text/plain": [
       "array([0, 0, 0, 0, 0, 1, 1, 1, 1, 1], dtype=int64)"
      ]
     },
     "execution_count": 17,
     "metadata": {},
     "output_type": "execute_result"
    }
   ],
   "source": [
    "y_pred =  np.argmax(y_pred,axis=1)\n",
    "len(test_data)\n",
    "test_data.classes\n",
    "y_pred"
   ]
  },
  {
   "cell_type": "code",
   "execution_count": 18,
   "id": "small-acoustic",
   "metadata": {},
   "outputs": [],
   "source": [
    "from sklearn.metrics import confusion_matrix, classification_report, roc_curve"
   ]
  },
  {
   "cell_type": "code",
   "execution_count": 19,
   "id": "piano-vegetable",
   "metadata": {},
   "outputs": [],
   "source": [
    "def plot_confusion_matrix (cm, classes,normalize=False,title='Confusion matrix',cmap=plt.cm.Blues):\n",
    "    plt.imshow(cm, interpolation='nearest', cmap=cmap)\n",
    "    plt.title(title)\n",
    "    plt.colorbar()\n",
    "    tick_marks = np.arange(len(classes))\n",
    "    plt.xticks(tick_marks, classes, rotation=45)\n",
    "    plt.yticks(tick_marks, classes)\n",
    "\n",
    "    if normalize:\n",
    "        cm = cm.astype('float') / cm.sum(axis=1)[:, np.newaxis]\n",
    "        print(\"Normalized confusion matrix\")\n",
    "    else:\n",
    "        print('Confusion matrix, without normalization')\n",
    "\n",
    "    print(cm)\n",
    "\n",
    "    thresh = cm.max() / 2.\n",
    "    for i, j in itertools.product(range(cm.shape[0]), range(cm.shape[1])):\n",
    "        plt.text(j, i, cm[i, j],\n",
    "            horizontalalignment=\"center\",\n",
    "            color=\"white\" if cm[i, j] > thresh else \"black\")\n",
    "\n",
    "    plt.tight_layout()\n",
    "    plt.ylabel('True label')\n",
    "    plt.xlabel('Predicted label')"
   ]
  },
  {
   "cell_type": "code",
   "execution_count": 21,
   "id": "wrapped-invite",
   "metadata": {},
   "outputs": [
    {
     "name": "stdout",
     "output_type": "stream",
     "text": [
      "Confusion matrix, without normalization\n",
      "[[5 0]\n",
      " [0 5]]\n"
     ]
    },
    {
     "data": {
      "image/png": "[encoded data removed]",
      "text/plain": [
       "<Figure size 432x288 with 2 Axes>"
      ]
     },
     "metadata": {
      "needs_background": "light"
     },
     "output_type": "display_data"
    }
   ],
   "source": [
    "import itertools\n",
    "cm = confusion_matrix(y_true = test_data.classes, y_pred = y_pred)\n",
    "plot_confusion_matrix(cm, healthType, title= 'confusion matrix')"
   ]
  },
  {
   "cell_type": "code",
   "execution_count": 22,
   "id": "alpha-leisure",
   "metadata": {},
   "outputs": [
    {
     "name": "stdout",
     "output_type": "stream",
     "text": [
      "              precision    recall  f1-score   support\n",
      "\n",
      "           0       1.00      1.00      1.00         5\n",
      "           1       1.00      1.00      1.00         5\n",
      "\n",
      "    accuracy                           1.00        10\n",
      "   macro avg       1.00      1.00      1.00        10\n",
      "weighted avg       1.00      1.00      1.00        10\n",
      "\n"
     ]
    }
   ],
   "source": [
    "print(classification_report(test_data.classes, y_pred))"
   ]
  },
  {
   "cell_type": "code",
   "execution_count": 23,
   "id": "australian-screw",
   "metadata": {},
   "outputs": [],
   "source": [
    "def plot_hist(hist):\n",
    "    plt.plot(hist.history[\"accuracy\"])\n",
    "    plt.plot(hist.history[\"val_accuracy\"])\n",
    "    plt.title(\"model accuracy\")\n",
    "    plt.ylabel(\"accuracy\")\n",
    "    plt.xlabel(\"epoch\")\n",
    "    plt.legend([\"train\", \"validation\"], loc=\"upper left\")\n",
    "    plt.show()"
   ]
  },
  {
   "cell_type": "code",
   "execution_count": null,
   "id": "patient-assets",
   "metadata": {},
   "outputs": [],
   "source": []
  },
  {
   "cell_type": "code",
   "execution_count": null,
   "id": "plain-kelly",
   "metadata": {},
   "outputs": [],
   "source": []
  }
 ],
 "metadata": {
  "kernelspec": {
   "display_name": "Python 3",
   "language": "python",
   "name": "python3"
  },
  "language_info": {
   "codemirror_mode": {
    "name": "ipython",
    "version": 3
   },
   "file_extension": ".py",
   "mimetype": "text/x-python",
   "name": "python",
   "nbconvert_exporter": "python",
   "pygments_lexer": "ipython3",
   "version": "3.8.3"
  }
 },
 "nbformat": 4,
 "nbformat_minor": 5
}
