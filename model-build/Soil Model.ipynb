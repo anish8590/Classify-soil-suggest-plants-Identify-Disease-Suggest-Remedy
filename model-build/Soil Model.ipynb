{
 "cells": [
  {
   "cell_type": "code",
   "execution_count": 1,
   "id": "current-browser",
   "metadata": {},
   "outputs": [],
   "source": [
    "import splitfolders"
   ]
  },
  {
   "cell_type": "code",
   "execution_count": 2,
   "id": "composite-remark",
   "metadata": {},
   "outputs": [],
   "source": [
    "splitfolders.ratio(\"Soil_Dataset/Train\", output=\"Soil_Dataset/data/\", seed=1337, ratio=(.8, .2), group_prefix=None) "
   ]
  },
  {
   "cell_type": "code",
   "execution_count": 3,
   "id": "known-martial",
   "metadata": {},
   "outputs": [],
   "source": [
    "from tensorflow import keras\n",
    "import tensorflow as tf\n",
    "import numpy as np\n",
    "import matplotlib.pyplot as plt\n",
    "%matplotlib inline"
   ]
  },
  {
   "cell_type": "code",
   "execution_count": 4,
   "id": "orange-timothy",
   "metadata": {},
   "outputs": [],
   "source": [
    "from keras import layers\n",
    "from tensorflow.keras.applications.xception import preprocess_input\n",
    "from tensorflow.keras.preprocessing.image import load_img , img_to_array , ImageDataGenerator"
   ]
  },
  {
   "cell_type": "code",
   "execution_count": 5,
   "id": "weighted-thirty",
   "metadata": {},
   "outputs": [],
   "source": [
    "SoilType = ['Alluvial_Soil', 'Black_Soil', 'Clay_Soil', 'Red_Soil']\n",
    "\n",
    "DATA_PATH = 'Soil_Dataset/'"
   ]
  },
  {
   "cell_type": "code",
   "execution_count": 6,
   "id": "proof-radical",
   "metadata": {},
   "outputs": [
    {
     "name": "stdout",
     "output_type": "stream",
     "text": [
      "Found 715 images belonging to 4 classes.\n"
     ]
    }
   ],
   "source": [
    "#import train data\n",
    "train_datagen = ImageDataGenerator(rescale=1/255,\n",
    "                                   shear_range = 0.3,\n",
    "                                   zoom_range = 0.3,horizontal_flip = True,\n",
    "                                   vertical_flip =  True ,\n",
    "                                   rotation_range=60)\n",
    "\n",
    "\n",
    "train_data = train_datagen.flow_from_directory(DATA_PATH+'train',\n",
    "                                                 target_size = (244, 244),\n",
    "                                                 class_mode='sparse',\n",
    "                                                 shuffle=True,seed=1)"
   ]
  },
  {
   "cell_type": "code",
   "execution_count": 7,
   "id": "contemporary-uganda",
   "metadata": {},
   "outputs": [
    {
     "name": "stdout",
     "output_type": "stream",
     "text": [
      "Found 144 images belonging to 4 classes.\n"
     ]
    }
   ],
   "source": [
    "#import val data\n",
    "\n",
    "val_datagen = ImageDataGenerator(rescale = 1/255)\n",
    "val_data = val_datagen.flow_from_directory(DATA_PATH+'data/val',\n",
    "                                                           target_size=(244,244),\n",
    "                                                           class_mode='sparse',\n",
    "                                                           shuffle=True,seed=1)"
   ]
  },
  {
   "cell_type": "code",
   "execution_count": 8,
   "id": "pleasant-recorder",
   "metadata": {},
   "outputs": [
    {
     "name": "stdout",
     "output_type": "stream",
     "text": [
      "Found 188 images belonging to 4 classes.\n"
     ]
    }
   ],
   "source": [
    "# import test data\n",
    "\n",
    "\n",
    "test_datagen = ImageDataGenerator(rescale = 1/255)\n",
    "test_data = test_datagen.flow_from_directory(DATA_PATH+'Test',\n",
    "                                                           target_size=(244,244),\n",
    "                                                           class_mode='sparse',\n",
    "                                                           shuffle=False,seed=1)"
   ]
  },
  {
   "cell_type": "code",
   "execution_count": 9,
   "id": "wooden-surge",
   "metadata": {},
   "outputs": [],
   "source": [
    "# Defining Cnn\n",
    "model = tf.keras.models.Sequential([\n",
    "  layers.Conv2D(32, 3, activation='relu',input_shape=(244,244,3)),\n",
    "  layers.MaxPooling2D(),\n",
    "  layers.Conv2D(64, 3, activation='relu'),\n",
    "  layers.MaxPooling2D(),\n",
    "  layers.Dropout(0.3),\n",
    "  layers.Conv2D(128, 3, activation='relu'),\n",
    "  layers.MaxPooling2D(),\n",
    "  layers.Dropout(0.2),\n",
    "  layers.Flatten(),\n",
    "  layers.Dense(256, activation='relu'),\n",
    "  layers.Dropout(0.15),\n",
    "  layers.Dense(128, activation='relu'),\n",
    "  layers.Dropout(0.1),\n",
    "  layers.Dense(4, activation= 'softmax')\n",
    "])"
   ]
  },
  {
   "cell_type": "code",
   "execution_count": 10,
   "id": "emerging-canyon",
   "metadata": {},
   "outputs": [],
   "source": [
    "model.compile(optimizer='adam',loss='sparse_categorical_crossentropy', metrics=['accuracy'])"
   ]
  },
  {
   "cell_type": "code",
   "execution_count": 11,
   "id": "greenhouse-entrance",
   "metadata": {},
   "outputs": [],
   "source": [
    "early = tf.keras.callbacks.EarlyStopping(monitor='val_loss',patience=5)"
   ]
  },
  {
   "cell_type": "code",
   "execution_count": 12,
   "id": "korean-reform",
   "metadata": {},
   "outputs": [
    {
     "name": "stdout",
     "output_type": "stream",
     "text": [
      "Epoch 1/100\n",
      "23/23 [==============================] - 50s 2s/step - loss: 2.0201 - accuracy: 0.4280 - val_loss: 0.8999 - val_accuracy: 0.7431\n",
      "Epoch 2/100\n",
      "23/23 [==============================] - 43s 2s/step - loss: 0.5968 - accuracy: 0.7385 - val_loss: 0.4638 - val_accuracy: 0.7639\n",
      "Epoch 3/100\n",
      "23/23 [==============================] - 42s 2s/step - loss: 0.3902 - accuracy: 0.8126 - val_loss: 0.2931 - val_accuracy: 0.8681\n",
      "Epoch 4/100\n",
      "23/23 [==============================] - 41s 2s/step - loss: 0.3146 - accuracy: 0.8629 - val_loss: 0.4833 - val_accuracy: 0.8681\n",
      "Epoch 5/100\n",
      "23/23 [==============================] - 40s 2s/step - loss: 0.3183 - accuracy: 0.8811 - val_loss: 0.2128 - val_accuracy: 0.9306\n",
      "Epoch 6/100\n",
      "23/23 [==============================] - 40s 2s/step - loss: 0.2692 - accuracy: 0.8909 - val_loss: 0.2581 - val_accuracy: 0.8958\n",
      "Epoch 7/100\n",
      "23/23 [==============================] - 49s 2s/step - loss: 0.2930 - accuracy: 0.8811 - val_loss: 0.1765 - val_accuracy: 0.9514\n",
      "Epoch 8/100\n",
      "23/23 [==============================] - 52s 2s/step - loss: 0.2473 - accuracy: 0.9203 - val_loss: 0.2010 - val_accuracy: 0.9306\n",
      "Epoch 9/100\n",
      "23/23 [==============================] - 61s 3s/step - loss: 0.2371 - accuracy: 0.9133 - val_loss: 0.5118 - val_accuracy: 0.8542\n",
      "Epoch 10/100\n",
      "23/23 [==============================] - 75s 3s/step - loss: 0.2564 - accuracy: 0.9063 - val_loss: 0.1600 - val_accuracy: 0.9375\n",
      "Epoch 11/100\n",
      "23/23 [==============================] - 83s 4s/step - loss: 0.2018 - accuracy: 0.9315 - val_loss: 0.2338 - val_accuracy: 0.9306\n",
      "Epoch 12/100\n",
      "23/23 [==============================] - 81s 4s/step - loss: 0.1767 - accuracy: 0.9413 - val_loss: 0.1591 - val_accuracy: 0.9306\n",
      "Epoch 13/100\n",
      "23/23 [==============================] - 59s 3s/step - loss: 0.1936 - accuracy: 0.9273 - val_loss: 0.3870 - val_accuracy: 0.8889\n",
      "Epoch 14/100\n",
      "23/23 [==============================] - 60s 3s/step - loss: 0.1622 - accuracy: 0.9315 - val_loss: 0.1337 - val_accuracy: 0.9514\n",
      "Epoch 15/100\n",
      "23/23 [==============================] - 46s 2s/step - loss: 0.2023 - accuracy: 0.9343 - val_loss: 0.2295 - val_accuracy: 0.9028\n",
      "Epoch 16/100\n",
      "23/23 [==============================] - 48s 2s/step - loss: 0.2320 - accuracy: 0.9203 - val_loss: 0.1362 - val_accuracy: 0.9514\n",
      "Epoch 17/100\n",
      "23/23 [==============================] - 44s 2s/step - loss: 0.2465 - accuracy: 0.9077 - val_loss: 0.1190 - val_accuracy: 0.9583\n",
      "Epoch 18/100\n",
      "23/23 [==============================] - 44s 2s/step - loss: 0.1711 - accuracy: 0.9413 - val_loss: 0.1555 - val_accuracy: 0.9306\n",
      "Epoch 19/100\n",
      "23/23 [==============================] - 44s 2s/step - loss: 0.1546 - accuracy: 0.9441 - val_loss: 0.2775 - val_accuracy: 0.9028\n",
      "Epoch 20/100\n",
      "23/23 [==============================] - 42s 2s/step - loss: 0.1656 - accuracy: 0.9315 - val_loss: 0.0809 - val_accuracy: 0.9792\n",
      "Epoch 21/100\n",
      "23/23 [==============================] - 45s 2s/step - loss: 0.1820 - accuracy: 0.9385 - val_loss: 0.0957 - val_accuracy: 0.9653\n",
      "Epoch 22/100\n",
      "23/23 [==============================] - 63s 3s/step - loss: 0.1468 - accuracy: 0.9455 - val_loss: 0.2261 - val_accuracy: 0.9097\n",
      "Epoch 23/100\n",
      "23/23 [==============================] - 69s 3s/step - loss: 0.1632 - accuracy: 0.9441 - val_loss: 0.0825 - val_accuracy: 0.9861\n",
      "Epoch 24/100\n",
      "23/23 [==============================] - 61s 3s/step - loss: 0.1644 - accuracy: 0.9329 - val_loss: 0.1550 - val_accuracy: 0.9236\n",
      "Epoch 25/100\n",
      "23/23 [==============================] - 74s 3s/step - loss: 0.1351 - accuracy: 0.9566 - val_loss: 0.0986 - val_accuracy: 0.9722\n"
     ]
    }
   ],
   "source": [
    "history = model.fit(train_data, validation_data= val_data, batch_size=32, epochs = 100, callbacks=[early])"
   ]
  },
  {
   "cell_type": "code",
   "execution_count": 13,
   "id": "herbal-cement",
   "metadata": {},
   "outputs": [
    {
     "name": "stdout",
     "output_type": "stream",
     "text": [
      "6/6 [==============================] - 5s 876ms/step - loss: 0.2373 - accuracy: 0.9149\n"
     ]
    },
    {
     "data": {
      "text/plain": [
       "[0.23725448548793793, 0.914893627166748]"
      ]
     },
     "execution_count": 13,
     "metadata": {},
     "output_type": "execute_result"
    }
   ],
   "source": [
    "model.evaluate(test_data)"
   ]
  },
  {
   "cell_type": "code",
   "execution_count": 14,
   "id": "loving-reggae",
   "metadata": {},
   "outputs": [
    {
     "data": {
      "text/plain": [
       "array([0, 2, 0, 2, 0, 0, 0, 0, 0, 1, 0, 0, 0, 0, 0, 0, 0, 0, 2, 2, 2, 2,\n",
       "       0, 1, 0, 0, 0, 0, 0, 0, 0, 0, 0, 0, 0, 0, 0, 0, 0, 0, 0, 0, 0, 0,\n",
       "       2, 0, 0, 0, 1, 1, 1, 1, 1, 1, 1, 1, 1, 1, 1, 1, 1, 1, 1, 1, 1, 1,\n",
       "       1, 1, 1, 1, 0, 1, 1, 1, 1, 1, 1, 1, 1, 1, 0, 1, 1, 2, 1, 1, 1, 1,\n",
       "       1, 1, 1, 1, 1, 1, 1, 2, 2, 2, 1, 2, 2, 2, 2, 2, 2, 2, 2, 2, 2, 2,\n",
       "       2, 2, 2, 2, 2, 2, 2, 2, 2, 2, 2, 2, 2, 2, 2, 2, 2, 2, 2, 0, 2, 2,\n",
       "       2, 2, 2, 2, 2, 2, 2, 2, 2, 2, 3, 3, 3, 3, 3, 3, 3, 3, 3, 3, 3, 3,\n",
       "       3, 3, 3, 0, 3, 3, 3, 3, 3, 3, 3, 3, 3, 3, 3, 3, 3, 3, 3, 3, 3, 3,\n",
       "       3, 3, 3, 3, 3, 3, 3, 3, 0, 3, 3, 3], dtype=int64)"
      ]
     },
     "execution_count": 14,
     "metadata": {},
     "output_type": "execute_result"
    }
   ],
   "source": [
    "y_pred =  model.predict(test_data)\n",
    "y_pred =  np.argmax(y_pred,axis=1)\n",
    "len(test_data)\n",
    "test_data.classes\n",
    "y_pred"
   ]
  },
  {
   "cell_type": "code",
   "execution_count": 15,
   "id": "alleged-indonesian",
   "metadata": {},
   "outputs": [],
   "source": [
    "from sklearn.metrics import confusion_matrix, classification_report, roc_curve"
   ]
  },
  {
   "cell_type": "code",
   "execution_count": 16,
   "id": "attractive-great",
   "metadata": {},
   "outputs": [],
   "source": [
    "def plot_confusion_matrix (cm, classes,normalize=False,title='Confusion matrix',cmap=plt.cm.Blues):\n",
    "    plt.imshow(cm, interpolation='nearest', cmap=cmap)\n",
    "    plt.title(title)\n",
    "    plt.colorbar()\n",
    "    tick_marks = np.arange(len(classes))\n",
    "    plt.xticks(tick_marks, classes, rotation=45)\n",
    "    plt.yticks(tick_marks, classes)\n",
    "\n",
    "    if normalize:\n",
    "        cm = cm.astype('float') / cm.sum(axis=1)[:, np.newaxis]\n",
    "        print(\"Normalized confusion matrix\")\n",
    "    else:\n",
    "        print('Confusion matrix, without normalization')\n",
    "\n",
    "    print(cm)\n",
    "\n",
    "    thresh = cm.max() / 2.\n",
    "    for i, j in itertools.product(range(cm.shape[0]), range(cm.shape[1])):\n",
    "        plt.text(j, i, cm[i, j],\n",
    "            horizontalalignment=\"center\",\n",
    "            color=\"white\" if cm[i, j] > thresh else \"black\")\n",
    "\n",
    "    plt.tight_layout()\n",
    "    plt.ylabel('True label')\n",
    "    plt.xlabel('Predicted label')"
   ]
  },
  {
   "cell_type": "code",
   "execution_count": 17,
   "id": "swedish-tunisia",
   "metadata": {},
   "outputs": [
    {
     "name": "stdout",
     "output_type": "stream",
     "text": [
      "Confusion matrix, without normalization\n",
      "[[39  2  7  0]\n",
      " [ 2 44  1  0]\n",
      " [ 1  1 45  0]\n",
      " [ 2  0  0 44]]\n"
     ]
    },
    {
     "data": {
      "image/png": "[encoded data removed]",
      "text/plain": [
       "<Figure size 432x288 with 2 Axes>"
      ]
     },
     "metadata": {
      "needs_background": "light"
     },
     "output_type": "display_data"
    }
   ],
   "source": [
    "import itertools\n",
    "cm = confusion_matrix(y_true = test_data.classes, y_pred = y_pred)\n",
    "plot_confusion_matrix(cm, SoilType, title= 'confusion matrix')"
   ]
  },
  {
   "cell_type": "code",
   "execution_count": 18,
   "id": "structural-xerox",
   "metadata": {},
   "outputs": [
    {
     "name": "stdout",
     "output_type": "stream",
     "text": [
      "              precision    recall  f1-score   support\n",
      "\n",
      "           0       0.89      0.81      0.85        48\n",
      "           1       0.94      0.94      0.94        47\n",
      "           2       0.85      0.96      0.90        47\n",
      "           3       1.00      0.96      0.98        46\n",
      "\n",
      "    accuracy                           0.91       188\n",
      "   macro avg       0.92      0.92      0.92       188\n",
      "weighted avg       0.92      0.91      0.91       188\n",
      "\n"
     ]
    }
   ],
   "source": [
    "print(classification_report(test_data.classes, y_pred))"
   ]
  },
  {
   "cell_type": "code",
   "execution_count": 19,
   "id": "northern-budget",
   "metadata": {},
   "outputs": [],
   "source": [
    "model.save('models/soil_model_25_March.h5')"
   ]
  },
  {
   "cell_type": "code",
   "execution_count": 20,
   "id": "religious-optics",
   "metadata": {},
   "outputs": [],
   "source": [
    "def plot_hist(hist):\n",
    "    plt.plot(hist.history[\"accuracy\"])\n",
    "    plt.plot(hist.history[\"val_accuracy\"])\n",
    "    plt.title(\"model accuracy\")\n",
    "    plt.ylabel(\"accuracy\")\n",
    "    plt.xlabel(\"epoch\")\n",
    "    plt.legend([\"train\", \"validation\"], loc=\"upper left\")\n",
    "    plt.show()"
   ]
  },
  {
   "cell_type": "code",
   "execution_count": 21,
   "id": "opponent-details",
   "metadata": {},
   "outputs": [
    {
     "data": {
      "image/png": "[encoded data removed]",
      "text/plain": [
       "<Figure size 432x288 with 1 Axes>"
      ]
     },
     "metadata": {
      "needs_background": "light"
     },
     "output_type": "display_data"
    }
   ],
   "source": [
    "plot_hist(history)"
   ]
  },
  {
   "cell_type": "code",
   "execution_count": 22,
   "id": "simplified-sydney",
   "metadata": {},
   "outputs": [],
   "source": [
    "def plot_hist_loss(hist):\n",
    "    plt.plot(hist.history[\"loss\"])\n",
    "    plt.plot(hist.history[\"val_loss\"])\n",
    "    plt.title(\"model loss\")\n",
    "    plt.ylabel(\"loss\")\n",
    "    plt.xlabel(\"epoch\")\n",
    "    plt.legend([\"train\", \"validation\"], loc=\"upper left\")\n",
    "    plt.show()"
   ]
  },
  {
   "cell_type": "code",
   "execution_count": 23,
   "id": "duplicate-detection",
   "metadata": {},
   "outputs": [
    {
     "data": {
      "image/png": "[encoded data removed]",
      "text/plain": [
       "<Figure size 432x288 with 1 Axes>"
      ]
     },
     "metadata": {
      "needs_background": "light"
     },
     "output_type": "display_data"
    }
   ],
   "source": [
    "plot_hist_loss(history)"
   ]
  },
  {
   "cell_type": "code",
   "execution_count": null,
   "id": "through-circumstances",
   "metadata": {},
   "outputs": [],
   "source": []
  }
 ],
 "metadata": {
  "kernelspec": {
   "display_name": "Python 3",
   "language": "python",
   "name": "python3"
  },
  "language_info": {
   "codemirror_mode": {
    "name": "ipython",
    "version": 3
   },
   "file_extension": ".py",
   "mimetype": "text/x-python",
   "name": "python",
   "nbconvert_exporter": "python",
   "pygments_lexer": "ipython3",
   "version": "3.8.3"
  }
 },
 "nbformat": 4,
 "nbformat_minor": 5
}
